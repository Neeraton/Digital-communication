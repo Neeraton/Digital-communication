{
  "nbformat": 4,
  "nbformat_minor": 0,
  "metadata": {
    "colab": {
      "provenance": [],
      "authorship_tag": "ABX9TyNrl+vhaGUYsbcSmD4hHrWQ",
      "include_colab_link": true
    },
    "kernelspec": {
      "name": "python3",
      "display_name": "Python 3"
    },
    "language_info": {
      "name": "python"
    }
  },
  "cells": [
    {
      "cell_type": "markdown",
      "metadata": {
        "id": "view-in-github",
        "colab_type": "text"
      },
      "source": [
        "<a href=\"https://colab.research.google.com/github/Neeraton/Digital-communication/blob/main/neeraj_1.ipynb\" target=\"_parent\"><img src=\"https://colab.research.google.com/assets/colab-badge.svg\" alt=\"Open In Colab\"/></a>"
      ]
    },
    {
      "cell_type": "code",
      "execution_count": null,
      "metadata": {
        "colab": {
          "base_uri": "https://localhost:8080/"
        },
        "id": "F8fp1UXf09wP",
        "outputId": "6365d569-e33d-4a6e-c9d1-00b36bb57d82"
      },
      "outputs": [
        {
          "output_type": "stream",
          "name": "stdout",
          "text": [
            "[[0.125   0.0625  0.03125 0.03125]\n",
            " [0.0625  0.125   0.03125 0.03125]\n",
            " [0.0625  0.0625  0.0625  0.0625 ]\n",
            " [0.25    0.      0.      0.     ]]\n"
          ]
        }
      ],
      "source": [
        "import numpy as np\n",
        "\n",
        "p_xy=np.array([[1/8,1/16,1/32,1/32],[1/16,1/8,1/32,1/32],[1/16,1/16,1/16,1/16],[1/4,0,0,0]])\n",
        "print(p_xy)"
      ]
    },
    {
      "cell_type": "code",
      "source": [
        "prob=p_xy.flatten()\n",
        "print(prob)\n"
      ],
      "metadata": {
        "colab": {
          "base_uri": "https://localhost:8080/"
        },
        "id": "zZfHU6mB1uVv",
        "outputId": "aac549a6-496e-45a3-d59d-cb28614be966"
      },
      "execution_count": null,
      "outputs": [
        {
          "output_type": "stream",
          "name": "stdout",
          "text": [
            "[0.125   0.0625  0.03125 0.03125 0.0625  0.125   0.03125 0.03125 0.0625\n",
            " 0.0625  0.0625  0.0625  0.25    0.      0.      0.     ]\n"
          ]
        }
      ]
    },
    {
      "cell_type": "code",
      "source": [
        "h_xy=-(np.sum([p*np.log2(p) for p in prob if p>0]))\n",
        "print(h_xy)"
      ],
      "metadata": {
        "colab": {
          "base_uri": "https://localhost:8080/"
        },
        "id": "k-gHhNcX2HHG",
        "outputId": "7cb529e3-6123-4315-895e-21f5ce918a07"
      },
      "execution_count": null,
      "outputs": [
        {
          "output_type": "stream",
          "name": "stdout",
          "text": [
            "3.375\n"
          ]
        }
      ]
    },
    {
      "cell_type": "code",
      "source": [
        "p_x=np.sum(p_xy,axis=1)\n",
        "print(p_x)"
      ],
      "metadata": {
        "colab": {
          "base_uri": "https://localhost:8080/"
        },
        "id": "PNdUZxFa2HEI",
        "outputId": "829f3cab-6b87-40d0-8d95-12a9b2b69055"
      },
      "execution_count": null,
      "outputs": [
        {
          "output_type": "stream",
          "name": "stdout",
          "text": [
            "[0.25 0.25 0.25 0.25]\n"
          ]
        }
      ]
    },
    {
      "cell_type": "code",
      "source": [
        "p_y=np.sum(p_xy,axis=0)\n",
        "print(p_y)"
      ],
      "metadata": {
        "colab": {
          "base_uri": "https://localhost:8080/"
        },
        "id": "czjN9pTn2t38",
        "outputId": "16bd64d7-0465-4787-abea-f93ccc4952e1"
      },
      "execution_count": null,
      "outputs": [
        {
          "output_type": "stream",
          "name": "stdout",
          "text": [
            "[0.5   0.25  0.125 0.125]\n"
          ]
        }
      ]
    },
    {
      "cell_type": "code",
      "source": [
        "h_x=-(np.sum([p*np.log2(p) for p in p_x if p>0]))\n",
        "print(h_x)"
      ],
      "metadata": {
        "colab": {
          "base_uri": "https://localhost:8080/"
        },
        "id": "ujC3gmIu25rL",
        "outputId": "14e6e444-592e-4df3-eb27-b57faea64a32"
      },
      "execution_count": null,
      "outputs": [
        {
          "output_type": "stream",
          "name": "stdout",
          "text": [
            "2.0\n"
          ]
        }
      ]
    },
    {
      "cell_type": "code",
      "source": [
        "h_y=-(np.sum([p*np.log2(p) for p in p_y if p>0]))\n",
        "print(h_y)"
      ],
      "metadata": {
        "colab": {
          "base_uri": "https://localhost:8080/"
        },
        "id": "HC9-vnfg3KhI",
        "outputId": "825ee32c-735b-4943-e35e-ea9981a12907"
      },
      "execution_count": null,
      "outputs": [
        {
          "output_type": "stream",
          "name": "stdout",
          "text": [
            "1.75\n"
          ]
        }
      ]
    },
    {
      "cell_type": "code",
      "source": [
        "p_xgiveny=p_xy/p_y\n",
        "print(p_xgiveny)"
      ],
      "metadata": {
        "colab": {
          "base_uri": "https://localhost:8080/"
        },
        "id": "-X23a7NT4Smx",
        "outputId": "a24096f5-11fa-49e1-a8de-44b0425f3ce3"
      },
      "execution_count": null,
      "outputs": [
        {
          "output_type": "stream",
          "name": "stdout",
          "text": [
            "[[0.25  0.25  0.25  0.25 ]\n",
            " [0.125 0.5   0.25  0.25 ]\n",
            " [0.125 0.25  0.5   0.5  ]\n",
            " [0.5   0.    0.    0.   ]]\n"
          ]
        }
      ]
    },
    {
      "cell_type": "code",
      "source": [
        "p_ygivenx=p_xy/p_x\n",
        "print(p_ygivenx)"
      ],
      "metadata": {
        "colab": {
          "base_uri": "https://localhost:8080/"
        },
        "id": "QxHrOCCQ4s4L",
        "outputId": "076dfb23-56e3-44aa-a68f-7cb5a884c99d"
      },
      "execution_count": null,
      "outputs": [
        {
          "output_type": "stream",
          "name": "stdout",
          "text": [
            "[[0.5   0.25  0.125 0.125]\n",
            " [0.25  0.5   0.125 0.125]\n",
            " [0.25  0.25  0.25  0.25 ]\n",
            " [1.    0.    0.    0.   ]]\n"
          ]
        }
      ]
    },
    {
      "cell_type": "code",
      "source": [
        "mask=p_xgiveny>0\n",
        "h_xgiveny=-(np.sum([p_xy[mask]*np.log2(p_xgiveny[mask])]))\n",
        "print(h_xgiveny)"
      ],
      "metadata": {
        "colab": {
          "base_uri": "https://localhost:8080/"
        },
        "id": "8ZVkw11Y41dh",
        "outputId": "e94a7f40-d626-4888-96db-9d9080db0b9e"
      },
      "execution_count": null,
      "outputs": [
        {
          "output_type": "stream",
          "name": "stdout",
          "text": [
            "1.625\n"
          ]
        }
      ]
    },
    {
      "cell_type": "code",
      "source": [
        "mask=p_ygivenx>0\n",
        "h_ygivenx=-(np.sum([p_xy[mask]*np.log2(p_ygivenx[mask])]))\n",
        "print(h_ygivenx)"
      ],
      "metadata": {
        "colab": {
          "base_uri": "https://localhost:8080/"
        },
        "id": "BjrSkzGy6CwD",
        "outputId": "e64c3371-aeb2-436d-a115-3f457d1c21e1"
      },
      "execution_count": null,
      "outputs": [
        {
          "output_type": "stream",
          "name": "stdout",
          "text": [
            "1.375\n"
          ]
        }
      ]
    },
    {
      "cell_type": "code",
      "source": [
        "I_xy=h_x+h_y-h_xy\n",
        "print(I_xy)"
      ],
      "metadata": {
        "colab": {
          "base_uri": "https://localhost:8080/"
        },
        "id": "XcKuj2e06rco",
        "outputId": "3b7f8e5a-d8f5-485e-8b7f-af2b9df7af31"
      },
      "execution_count": null,
      "outputs": [
        {
          "output_type": "stream",
          "name": "stdout",
          "text": [
            "0.375\n"
          ]
        }
      ]
    }
  ]
}