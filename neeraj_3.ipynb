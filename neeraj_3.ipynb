{
  "nbformat": 4,
  "nbformat_minor": 0,
  "metadata": {
    "colab": {
      "provenance": [],
      "authorship_tag": "ABX9TyPiio8Y/N2gPmZnJEA9wfPK",
      "include_colab_link": true
    },
    "kernelspec": {
      "name": "python3",
      "display_name": "Python 3"
    },
    "language_info": {
      "name": "python"
    }
  },
  "cells": [
    {
      "cell_type": "markdown",
      "metadata": {
        "id": "view-in-github",
        "colab_type": "text"
      },
      "source": [
        "<a href=\"https://colab.research.google.com/github/Neeraton/Digital-communication/blob/main/neeraj_3.ipynb\" target=\"_parent\"><img src=\"https://colab.research.google.com/assets/colab-badge.svg\" alt=\"Open In Colab\"/></a>"
      ]
    },
    {
      "cell_type": "code",
      "execution_count": null,
      "metadata": {
        "colab": {
          "base_uri": "https://localhost:8080/"
        },
        "id": "BqS-CAhqXMQ-",
        "outputId": "0178ce88-fcc8-4d0f-c9de-4575cfc61448"
      },
      "outputs": [
        {
          "output_type": "stream",
          "name": "stdout",
          "text": [
            "[0 0 1 1]\n",
            "[1 1 0 1]\n",
            " \n",
            "1 x + 1\n",
            "   3     2\n",
            "1 x + 1 x + 1\n"
          ]
        }
      ],
      "source": [
        "import numpy as np\n",
        "\n",
        "m=np.array([0,0,1,1])\n",
        "g=np.array([1,1,0,1])\n",
        "print(m)\n",
        "print(g)\n",
        "\n",
        "mx=np.poly1d(m)\n",
        "gx=np.poly1d(g)\n",
        "print(mx)\n",
        "print(gx)"
      ]
    },
    {
      "cell_type": "code",
      "source": [
        "parity=np.zeros(len(g))\n",
        "parity[0]=1\n",
        "print(parity)\n",
        "\n",
        "parity_x=np.poly1d(parity)\n",
        "print(parity_x)"
      ],
      "metadata": {
        "colab": {
          "base_uri": "https://localhost:8080/"
        },
        "id": "TudJT9Oubqsi",
        "outputId": "263b15ec-217f-4264-a9e6-a9ac30a7f874"
      },
      "execution_count": null,
      "outputs": [
        {
          "output_type": "stream",
          "name": "stdout",
          "text": [
            "[1. 0. 0. 0.]\n",
            "   3\n",
            "1 x\n"
          ]
        }
      ]
    },
    {
      "cell_type": "code",
      "source": [
        "shifted_mx=np.polymul(parity_x,mx)\n",
        "print(shifted_mx)\n"
      ],
      "metadata": {
        "colab": {
          "base_uri": "https://localhost:8080/"
        },
        "id": "xWaqBZGDcQY7",
        "outputId": "8cda5812-e235-4854-9e2c-70caf6fce011"
      },
      "execution_count": null,
      "outputs": [
        {
          "output_type": "stream",
          "name": "stdout",
          "text": [
            "   4     3\n",
            "1 x + 1 x\n"
          ]
        }
      ]
    },
    {
      "cell_type": "code",
      "source": [
        "q,r=np.polydiv(shifted_mx,gx)\n",
        "r=np.absolute(r)%2\n",
        "print(r)"
      ],
      "metadata": {
        "id": "n5_bVm6Icfo3",
        "colab": {
          "base_uri": "https://localhost:8080/"
        },
        "outputId": "2387bf3e-3e37-4a53-ec1e-e94785199a6b"
      },
      "execution_count": null,
      "outputs": [
        {
          "output_type": "stream",
          "name": "stdout",
          "text": [
            "[1. 0.]\n"
          ]
        }
      ]
    },
    {
      "cell_type": "code",
      "source": [
        "rem=np.insert(r,0,0)\n",
        "print(rem)"
      ],
      "metadata": {
        "id": "FwUwA1s9b9y0",
        "colab": {
          "base_uri": "https://localhost:8080/"
        },
        "outputId": "4762b8c5-9e3d-4ec0-f48c-e3b367812849"
      },
      "execution_count": null,
      "outputs": [
        {
          "output_type": "stream",
          "name": "stdout",
          "text": [
            "[0. 1. 0.]\n"
          ]
        }
      ]
    },
    {
      "cell_type": "code",
      "source": [
        "code=np.append(m,rem)\n",
        "print(code)"
      ],
      "metadata": {
        "colab": {
          "base_uri": "https://localhost:8080/"
        },
        "id": "c1e6qzVcfBsz",
        "outputId": "216ca985-9692-442f-f04b-c0c16012399e"
      },
      "execution_count": null,
      "outputs": [
        {
          "output_type": "stream",
          "name": "stdout",
          "text": [
            "[0. 0. 1. 1. 0. 1. 0.]\n"
          ]
        }
      ]
    }
  ]
}