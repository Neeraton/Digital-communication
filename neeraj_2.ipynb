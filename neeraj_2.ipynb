{
  "nbformat": 4,
  "nbformat_minor": 0,
  "metadata": {
    "colab": {
      "provenance": [],
      "authorship_tag": "ABX9TyOxHJ/8sPvWNf3oHXfVNlWQ",
      "include_colab_link": true
    },
    "kernelspec": {
      "name": "python3",
      "display_name": "Python 3"
    },
    "language_info": {
      "name": "python"
    }
  },
  "cells": [
    {
      "cell_type": "markdown",
      "metadata": {
        "id": "view-in-github",
        "colab_type": "text"
      },
      "source": [
        "<a href=\"https://colab.research.google.com/github/Neeraton/Digital-communication/blob/main/neeraj_2.ipynb\" target=\"_parent\"><img src=\"https://colab.research.google.com/assets/colab-badge.svg\" alt=\"Open In Colab\"/></a>"
      ]
    },
    {
      "cell_type": "code",
      "source": [
        "import numpy as np\n",
        "\n",
        "n=7\n",
        "k=4\n",
        "p=np.array([[0,1,1],[1,1,1],[1,1,0],[1,0,1]])\n",
        "print(p)"
      ],
      "metadata": {
        "colab": {
          "base_uri": "https://localhost:8080/"
        },
        "id": "JjhgSlFpHJZU",
        "outputId": "914d340b-0272-47d7-d232-4f850b7032a3"
      },
      "execution_count": null,
      "outputs": [
        {
          "output_type": "stream",
          "name": "stdout",
          "text": [
            "[[0 1 1]\n",
            " [1 1 1]\n",
            " [1 1 0]\n",
            " [1 0 1]]\n"
          ]
        }
      ]
    },
    {
      "cell_type": "code",
      "source": [
        "I=np.eye(k)\n",
        "print(I)"
      ],
      "metadata": {
        "colab": {
          "base_uri": "https://localhost:8080/"
        },
        "id": "_Hxi2Zh2HxAr",
        "outputId": "7faeb711-fb87-430c-8c93-2372cf892e62"
      },
      "execution_count": null,
      "outputs": [
        {
          "output_type": "stream",
          "name": "stdout",
          "text": [
            "[[1. 0. 0. 0.]\n",
            " [0. 1. 0. 0.]\n",
            " [0. 0. 1. 0.]\n",
            " [0. 0. 0. 1.]]\n"
          ]
        }
      ]
    },
    {
      "cell_type": "code",
      "source": [
        "G=np.hstack((I,p))\n",
        "print(G)"
      ],
      "metadata": {
        "colab": {
          "base_uri": "https://localhost:8080/"
        },
        "id": "AW4uv4jDH2tR",
        "outputId": "1189c3f5-0df6-4a26-9cb8-011883b9438e"
      },
      "execution_count": null,
      "outputs": [
        {
          "output_type": "stream",
          "name": "stdout",
          "text": [
            "[[1. 0. 0. 0. 0. 1. 1.]\n",
            " [0. 1. 0. 0. 1. 1. 1.]\n",
            " [0. 0. 1. 0. 1. 1. 0.]\n",
            " [0. 0. 0. 1. 1. 0. 1.]]\n"
          ]
        }
      ]
    },
    {
      "cell_type": "code",
      "source": [
        "m=np.arange(2**k)\n",
        "print(m)"
      ],
      "metadata": {
        "colab": {
          "base_uri": "https://localhost:8080/"
        },
        "id": "dGaRQzXEIC-E",
        "outputId": "c6fa7cb5-0ad5-405e-9eff-cf92aeb253cb"
      },
      "execution_count": null,
      "outputs": [
        {
          "output_type": "stream",
          "name": "stdout",
          "text": [
            "[ 0  1  2  3  4  5  6  7  8  9 10 11 12 13 14 15]\n"
          ]
        }
      ]
    },
    {
      "cell_type": "code",
      "source": [
        "D=np.zeros((2**k,k))\n",
        "for i in m:\n",
        "  z='{0:04b}'.format(i)\n",
        "  zs=[int(i) for i in z]\n",
        "  D[i,:]=zs\n",
        "print(D)"
      ],
      "metadata": {
        "colab": {
          "base_uri": "https://localhost:8080/"
        },
        "id": "0RVLjqAoIMSE",
        "outputId": "3216f04d-c658-4490-95be-ca4e5b9b84ab"
      },
      "execution_count": null,
      "outputs": [
        {
          "output_type": "stream",
          "name": "stdout",
          "text": [
            "[[0. 0. 0. 0.]\n",
            " [0. 0. 0. 1.]\n",
            " [0. 0. 1. 0.]\n",
            " [0. 0. 1. 1.]\n",
            " [0. 1. 0. 0.]\n",
            " [0. 1. 0. 1.]\n",
            " [0. 1. 1. 0.]\n",
            " [0. 1. 1. 1.]\n",
            " [1. 0. 0. 0.]\n",
            " [1. 0. 0. 1.]\n",
            " [1. 0. 1. 0.]\n",
            " [1. 0. 1. 1.]\n",
            " [1. 1. 0. 0.]\n",
            " [1. 1. 0. 1.]\n",
            " [1. 1. 1. 0.]\n",
            " [1. 1. 1. 1.]]\n"
          ]
        }
      ]
    },
    {
      "cell_type": "code",
      "source": [
        "c=np.dot(D,G)\n",
        "print(c)\n",
        "c=c%2\n",
        "c=c.astype(int)\n",
        "print(c)"
      ],
      "metadata": {
        "colab": {
          "base_uri": "https://localhost:8080/"
        },
        "id": "8Po7ENhHImxw",
        "outputId": "7f4e80d6-10d8-4eb8-ec27-399694e13bfb"
      },
      "execution_count": null,
      "outputs": [
        {
          "output_type": "stream",
          "name": "stdout",
          "text": [
            "[[0. 0. 0. 0. 0. 0. 0.]\n",
            " [0. 0. 0. 1. 1. 0. 1.]\n",
            " [0. 0. 1. 0. 1. 1. 0.]\n",
            " [0. 0. 1. 1. 2. 1. 1.]\n",
            " [0. 1. 0. 0. 1. 1. 1.]\n",
            " [0. 1. 0. 1. 2. 1. 2.]\n",
            " [0. 1. 1. 0. 2. 2. 1.]\n",
            " [0. 1. 1. 1. 3. 2. 2.]\n",
            " [1. 0. 0. 0. 0. 1. 1.]\n",
            " [1. 0. 0. 1. 1. 1. 2.]\n",
            " [1. 0. 1. 0. 1. 2. 1.]\n",
            " [1. 0. 1. 1. 2. 2. 2.]\n",
            " [1. 1. 0. 0. 1. 2. 2.]\n",
            " [1. 1. 0. 1. 2. 2. 3.]\n",
            " [1. 1. 1. 0. 2. 3. 2.]\n",
            " [1. 1. 1. 1. 3. 3. 3.]]\n",
            "[[0 0 0 0 0 0 0]\n",
            " [0 0 0 1 1 0 1]\n",
            " [0 0 1 0 1 1 0]\n",
            " [0 0 1 1 0 1 1]\n",
            " [0 1 0 0 1 1 1]\n",
            " [0 1 0 1 0 1 0]\n",
            " [0 1 1 0 0 0 1]\n",
            " [0 1 1 1 1 0 0]\n",
            " [1 0 0 0 0 1 1]\n",
            " [1 0 0 1 1 1 0]\n",
            " [1 0 1 0 1 0 1]\n",
            " [1 0 1 1 0 0 0]\n",
            " [1 1 0 0 1 0 0]\n",
            " [1 1 0 1 0 0 1]\n",
            " [1 1 1 0 0 1 0]\n",
            " [1 1 1 1 1 1 1]]\n"
          ]
        }
      ]
    },
    {
      "cell_type": "code",
      "source": [
        "idx=4\n",
        "loc=2\n",
        "R=c[idx,:]\n",
        "print(\"original R\",R)\n",
        "R[loc]=int(not R[loc])\n",
        "print(\"new R\",R)"
      ],
      "metadata": {
        "colab": {
          "base_uri": "https://localhost:8080/"
        },
        "id": "VrhStezKJIFc",
        "outputId": "4d65f53b-10c5-4bec-811d-3b886abd99c8"
      },
      "execution_count": null,
      "outputs": [
        {
          "output_type": "stream",
          "name": "stdout",
          "text": [
            "original R [0 1 0 0 1 1 1]\n",
            "new R [0 1 1 0 1 1 1]\n"
          ]
        }
      ]
    },
    {
      "cell_type": "code",
      "source": [
        "I=np.eye(n-k)\n",
        "print(I)"
      ],
      "metadata": {
        "colab": {
          "base_uri": "https://localhost:8080/"
        },
        "id": "6iF0gnJfJo6p",
        "outputId": "a34ed46d-2a02-4a96-b52b-80297681a381"
      },
      "execution_count": null,
      "outputs": [
        {
          "output_type": "stream",
          "name": "stdout",
          "text": [
            "[[1. 0. 0.]\n",
            " [0. 1. 0.]\n",
            " [0. 0. 1.]]\n"
          ]
        }
      ]
    },
    {
      "cell_type": "code",
      "source": [
        "H=np.hstack((p.T,I))\n",
        "print(H)"
      ],
      "metadata": {
        "colab": {
          "base_uri": "https://localhost:8080/"
        },
        "id": "JufWARL7Ju4i",
        "outputId": "3dd49c9a-a105-4040-d141-6139c7774ae2"
      },
      "execution_count": null,
      "outputs": [
        {
          "output_type": "stream",
          "name": "stdout",
          "text": [
            "[[0. 1. 1. 1. 1. 0. 0.]\n",
            " [1. 1. 1. 0. 0. 1. 0.]\n",
            " [1. 1. 0. 1. 0. 0. 1.]]\n"
          ]
        }
      ]
    },
    {
      "cell_type": "code",
      "source": [
        "x=H.T\n",
        "print(x)"
      ],
      "metadata": {
        "colab": {
          "base_uri": "https://localhost:8080/"
        },
        "id": "OvF-1wkxKGCi",
        "outputId": "940822cc-4b12-408f-f99f-545e5a174a1e"
      },
      "execution_count": null,
      "outputs": [
        {
          "output_type": "stream",
          "name": "stdout",
          "text": [
            "[[0. 1. 1.]\n",
            " [1. 1. 1.]\n",
            " [1. 1. 0.]\n",
            " [1. 0. 1.]\n",
            " [1. 0. 0.]\n",
            " [0. 1. 0.]\n",
            " [0. 0. 1.]]\n"
          ]
        }
      ]
    },
    {
      "cell_type": "code",
      "source": [
        "s=np.dot(R,x)\n",
        "s=s%2\n",
        "print(s)"
      ],
      "metadata": {
        "colab": {
          "base_uri": "https://localhost:8080/"
        },
        "id": "Vs9GhehbKMI9",
        "outputId": "b1c5edd1-e154-4567-8c19-e24f0d18533c"
      },
      "execution_count": null,
      "outputs": [
        {
          "output_type": "stream",
          "name": "stdout",
          "text": [
            "[1. 1. 0.]\n"
          ]
        }
      ]
    },
    {
      "cell_type": "code",
      "source": [
        "for i in range(x.shape[1]):\n",
        "  if np.array_equal(s,x[i,:]):\n",
        "    R[i]=int(not R[i])\n",
        "    print(\"Error present at \",i)\n",
        "    break\n",
        "print(\"Correctect codeword =\",R)"
      ],
      "metadata": {
        "colab": {
          "base_uri": "https://localhost:8080/"
        },
        "id": "SjUoVsKfKajF",
        "outputId": "dcc8d50f-e0c8-4a67-f948-66e7d85e16e3"
      },
      "execution_count": null,
      "outputs": [
        {
          "output_type": "stream",
          "name": "stdout",
          "text": [
            "Error present at  2\n",
            "Correctect codeword = [0 1 0 0 1 1 1]\n"
          ]
        }
      ]
    }
  ]
}