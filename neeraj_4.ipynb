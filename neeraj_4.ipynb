{
  "nbformat": 4,
  "nbformat_minor": 0,
  "metadata": {
    "colab": {
      "provenance": [],
      "authorship_tag": "ABX9TyOx+iPirVxG7aiMFOqJLpHD",
      "include_colab_link": true
    },
    "kernelspec": {
      "name": "python3",
      "display_name": "Python 3"
    },
    "language_info": {
      "name": "python"
    }
  },
  "cells": [
    {
      "cell_type": "markdown",
      "metadata": {
        "id": "view-in-github",
        "colab_type": "text"
      },
      "source": [
        "<a href=\"https://colab.research.google.com/github/Neeraton/Digital-communication/blob/main/neeraj_4.ipynb\" target=\"_parent\"><img src=\"https://colab.research.google.com/assets/colab-badge.svg\" alt=\"Open In Colab\"/></a>"
      ]
    },
    {
      "cell_type": "code",
      "execution_count": null,
      "metadata": {
        "colab": {
          "base_uri": "https://localhost:8080/"
        },
        "id": "6fbBa5delR_0",
        "outputId": "595c7026-bc82-4944-a0b1-dd3c48ef1894"
      },
      "outputs": [
        {
          "output_type": "stream",
          "name": "stdout",
          "text": [
            "g1= [0 1 1]\n",
            "g2= [1 0 1]\n",
            "m= [1 0 1 0 1]\n"
          ]
        }
      ],
      "source": [
        "import numpy as np\n",
        "\n",
        "g1=np.array([0,1,1])\n",
        "g2=np.array([1,0,1])\n",
        "m=np.array([1,0,1,0,1])\n",
        "print(\"g1=\",g1)\n",
        "print(\"g2=\",g2)\n",
        "print(\"m=\",m)"
      ]
    },
    {
      "cell_type": "code",
      "source": [
        "#for time doamin\n",
        "V1=np.convolve(m,g1)\n",
        "V1=V1%2\n",
        "V2=np.convolve(m,g2)\n",
        "V2=V2%2\n",
        "\n",
        "print(V1)\n",
        "print(V2)"
      ],
      "metadata": {
        "colab": {
          "base_uri": "https://localhost:8080/"
        },
        "id": "Im_YLHT9rSlF",
        "outputId": "27176784-2d81-4ebf-d5da-76973c744871"
      },
      "execution_count": null,
      "outputs": [
        {
          "output_type": "stream",
          "name": "stdout",
          "text": [
            "[0 1 1 1 1 1 1]\n",
            "[1 0 0 0 0 0 1]\n"
          ]
        }
      ]
    },
    {
      "cell_type": "code",
      "source": [
        "#combining both o/p\n",
        "code=np.zeros((V1.shape[0],2))\n",
        "for i in range(V1.shape[0]):\n",
        "  code[i,:]=[V1[i],V2[i]]\n",
        "code=code.flatten()\n",
        "print(code)"
      ],
      "metadata": {
        "colab": {
          "base_uri": "https://localhost:8080/"
        },
        "id": "vHq1mE_PrQ8Y",
        "outputId": "d97e55ee-2fc5-4bf7-893a-abc721b63526"
      },
      "execution_count": null,
      "outputs": [
        {
          "output_type": "stream",
          "name": "stdout",
          "text": [
            "[0. 1. 1. 0. 1. 0. 1. 0. 1. 0. 1. 0. 1. 1.]\n"
          ]
        }
      ]
    },
    {
      "cell_type": "code",
      "source": [
        "#for transfer domain\n",
        "g1_x=np.poly1d(g1)\n",
        "g2_x=np.poly1d(g2)\n",
        "m_x=np.poly1d(m)\n",
        "print(\"g1_x=\\n\",g1_x)\n",
        "print(\"g2_x=\\n\",g2_x)\n",
        "print(\"m_x=\\n\",m_x)"
      ],
      "metadata": {
        "colab": {
          "base_uri": "https://localhost:8080/"
        },
        "id": "aVwjpUHGoXPI",
        "outputId": "f41a3352-6ae1-43d0-d661-7c8c3076d67e"
      },
      "execution_count": null,
      "outputs": [
        {
          "output_type": "stream",
          "name": "stdout",
          "text": [
            "g1_x=\n",
            "  \n",
            "1 x + 1\n",
            "g2_x=\n",
            "    2\n",
            "1 x + 1\n",
            "m_x=\n",
            "    4     2\n",
            "1 x + 1 x + 1\n"
          ]
        }
      ]
    },
    {
      "cell_type": "code",
      "source": [
        "\n",
        "V1=np.polymul(m_x,g1_x)\n",
        "V1=V1.c%2\n",
        "V2=np.polymul(m_x,g2_x)\n",
        "V2=V2.c%2\n",
        "\n",
        "print(V1)\n",
        "print(V2)"
      ],
      "metadata": {
        "colab": {
          "base_uri": "https://localhost:8080/"
        },
        "id": "rfQCpaRHoxib",
        "outputId": "32f8e532-1fca-4a8d-c7b3-8086c3428e07"
      },
      "execution_count": null,
      "outputs": [
        {
          "output_type": "stream",
          "name": "stdout",
          "text": [
            "[1 1 1 1 1 1]\n",
            "[1 0 0 0 0 0 1]\n"
          ]
        }
      ]
    },
    {
      "cell_type": "code",
      "source": [
        "#combining both o/p\n",
        "code=np.zeros((V1.shape[0],2))\n",
        "for i in range(V1.shape[0]):\n",
        "  code[i,:]=[V1[i],V2[i]]\n",
        "code=code.flatten()\n",
        "print(code)"
      ],
      "metadata": {
        "colab": {
          "base_uri": "https://localhost:8080/"
        },
        "id": "pGmH4x8qqekK",
        "outputId": "b317bd6d-50a6-4696-8935-b2620d1cd2c7"
      },
      "execution_count": null,
      "outputs": [
        {
          "output_type": "stream",
          "name": "stdout",
          "text": [
            "[1. 1. 1. 0. 1. 0. 1. 0. 1. 0. 1. 0.]\n"
          ]
        }
      ]
    }
  ]
}