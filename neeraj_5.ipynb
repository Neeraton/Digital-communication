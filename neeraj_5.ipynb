{
  "nbformat": 4,
  "nbformat_minor": 0,
  "metadata": {
    "colab": {
      "provenance": [],
      "authorship_tag": "ABX9TyN9Ydm1paiJPP7CzLisj/7t",
      "include_colab_link": true
    },
    "kernelspec": {
      "name": "python3",
      "display_name": "Python 3"
    },
    "language_info": {
      "name": "python"
    }
  },
  "cells": [
    {
      "cell_type": "markdown",
      "metadata": {
        "id": "view-in-github",
        "colab_type": "text"
      },
      "source": [
        "<a href=\"https://colab.research.google.com/github/Neeraton/Digital-communication/blob/main/neeraj_5.ipynb\" target=\"_parent\"><img src=\"https://colab.research.google.com/assets/colab-badge.svg\" alt=\"Open In Colab\"/></a>"
      ]
    },
    {
      "cell_type": "code",
      "execution_count": null,
      "metadata": {
        "colab": {
          "base_uri": "https://localhost:8080/"
        },
        "id": "fnG6tca8b6_i",
        "outputId": "3723d3f3-9bc3-4feb-c531-d97166bceee8"
      },
      "outputs": [
        {
          "output_type": "stream",
          "name": "stdout",
          "text": [
            "M= [1 0 1 1 0 1]\n",
            "d= [1 0 1 1]\n",
            "4\n"
          ]
        }
      ],
      "source": [
        "import numpy as np\n",
        "\n",
        "M=np.array([1,0,1,1,0,1])\n",
        "d=np.array([1,0,1,1])\n",
        "L=len(d)\n",
        "print(\"M=\",M)\n",
        "print(\"d=\",d)\n",
        "print(L)"
      ]
    },
    {
      "cell_type": "code",
      "source": [
        "t=np.zeros(L)\n",
        "t[0]=1\n",
        "print(t)"
      ],
      "metadata": {
        "colab": {
          "base_uri": "https://localhost:8080/"
        },
        "id": "6t2wTFTXhuBu",
        "outputId": "3b068afc-705e-4a4e-b8e7-1b2081f717aa"
      },
      "execution_count": null,
      "outputs": [
        {
          "output_type": "stream",
          "name": "stdout",
          "text": [
            "[1. 0. 0. 0.]\n"
          ]
        }
      ]
    },
    {
      "cell_type": "code",
      "source": [
        "Mx=np.poly1d(M)\n",
        "dx=np.poly1d(d)\n",
        "tx=np.poly1d(t)\n",
        "print(\"Mx=\\n\",Mx)\n",
        "print(\"dx=\\n\",dx)\n",
        "print(\"tx=\\n\",tx)"
      ],
      "metadata": {
        "colab": {
          "base_uri": "https://localhost:8080/"
        },
        "id": "livNzOnJh4si",
        "outputId": "dd905a68-1887-4c30-8d04-135dc1933d80"
      },
      "execution_count": null,
      "outputs": [
        {
          "output_type": "stream",
          "name": "stdout",
          "text": [
            "Mx=\n",
            "    5     3     2\n",
            "1 x + 1 x + 1 x + 1\n",
            "dx=\n",
            "    3\n",
            "1 x + 1 x + 1\n",
            "tx=\n",
            "    3\n",
            "1 x\n"
          ]
        }
      ]
    },
    {
      "cell_type": "code",
      "source": [
        "aMx=np.polymul(Mx,tx)\n",
        "print(aMx)"
      ],
      "metadata": {
        "colab": {
          "base_uri": "https://localhost:8080/"
        },
        "id": "RBfrLO-siafi",
        "outputId": "eea95969-97cd-40c1-dd8c-4133582cd78e"
      },
      "execution_count": null,
      "outputs": [
        {
          "output_type": "stream",
          "name": "stdout",
          "text": [
            "   8     6     5     3\n",
            "1 x + 1 x + 1 x + 1 x\n"
          ]
        }
      ]
    },
    {
      "cell_type": "code",
      "source": [
        "qx,rx=np.polydiv(aMx,dx)\n",
        "rx=np.absolute(rx)%2\n",
        "print(rx)"
      ],
      "metadata": {
        "colab": {
          "base_uri": "https://localhost:8080/"
        },
        "id": "vILMA3LEipOC",
        "outputId": "94cb2160-b1ab-4456-ea73-f70455f4a9fa"
      },
      "execution_count": null,
      "outputs": [
        {
          "output_type": "stream",
          "name": "stdout",
          "text": [
            "[1. 1.]\n"
          ]
        }
      ]
    },
    {
      "cell_type": "code",
      "source": [
        "Cx=aMx+rx\n",
        "print(Cx)"
      ],
      "metadata": {
        "colab": {
          "base_uri": "https://localhost:8080/"
        },
        "id": "4ASjFesFjWd8",
        "outputId": "2b9825d0-242f-426f-cf6a-a508dc440e99"
      },
      "execution_count": null,
      "outputs": [
        {
          "output_type": "stream",
          "name": "stdout",
          "text": [
            "   8     6     5     3\n",
            "1 x + 1 x + 1 x + 1 x + 1 x + 1\n"
          ]
        }
      ]
    },
    {
      "cell_type": "code",
      "source": [
        "C=Cx.c\n",
        "print(C)"
      ],
      "metadata": {
        "colab": {
          "base_uri": "https://localhost:8080/"
        },
        "id": "gWXxDwmzjG5H",
        "outputId": "102f1cae-6c4c-49c1-e505-aa9774c973b5"
      },
      "execution_count": null,
      "outputs": [
        {
          "output_type": "stream",
          "name": "stdout",
          "text": [
            "[1. 0. 1. 1. 0. 1. 0. 1. 1.]\n"
          ]
        }
      ]
    },
    {
      "cell_type": "code",
      "source": [
        "#decoding\n",
        "R=C\n",
        "loc=4\n",
        "R[loc]=int(not (R[loc]))\n",
        "print(R)"
      ],
      "metadata": {
        "colab": {
          "base_uri": "https://localhost:8080/"
        },
        "id": "JtypzDbfjnBh",
        "outputId": "a9e27238-9087-42a1-fe9e-44c74ebc9cb2"
      },
      "execution_count": null,
      "outputs": [
        {
          "output_type": "stream",
          "name": "stdout",
          "text": [
            "[1. 0. 1. 1. 1. 1. 0. 1. 1.]\n"
          ]
        }
      ]
    },
    {
      "cell_type": "code",
      "source": [
        "Rx=np.poly1d(R)\n",
        "print(Rx)"
      ],
      "metadata": {
        "colab": {
          "base_uri": "https://localhost:8080/"
        },
        "id": "BQkJLf5AkE4Z",
        "outputId": "daadae9c-2bba-48b5-d925-c8ae56e5c879"
      },
      "execution_count": null,
      "outputs": [
        {
          "output_type": "stream",
          "name": "stdout",
          "text": [
            "   8     6     5     4     3\n",
            "1 x + 1 x + 1 x + 1 x + 1 x + 1 x + 1\n"
          ]
        }
      ]
    },
    {
      "cell_type": "code",
      "source": [
        "Qx,Rx=np.polydiv(Rx,dx)\n",
        "Re=Rx.c%2\n",
        "print(Re)"
      ],
      "metadata": {
        "colab": {
          "base_uri": "https://localhost:8080/"
        },
        "id": "BVc6Etb8kQQ2",
        "outputId": "83e4bf93-2109-49f8-f914-9c3e902eb6e2"
      },
      "execution_count": null,
      "outputs": [
        {
          "output_type": "stream",
          "name": "stdout",
          "text": [
            "[1. 1. 0.]\n"
          ]
        }
      ]
    },
    {
      "cell_type": "code",
      "source": [
        "f=0\n",
        "for i in Re:\n",
        "  if i!=0:\n",
        "    print(\"Error Detected\")\n",
        "    f=1\n",
        "    break\n",
        "  if f==0:\n",
        "    print(\"Error not detected\")"
      ],
      "metadata": {
        "colab": {
          "base_uri": "https://localhost:8080/"
        },
        "id": "p9aNrdxVkiWu",
        "outputId": "7dd2e8c3-f1a2-4e61-be4e-fd8d4ab2d806"
      },
      "execution_count": null,
      "outputs": [
        {
          "output_type": "stream",
          "name": "stdout",
          "text": [
            "Error Detected\n"
          ]
        }
      ]
    }
  ]
}